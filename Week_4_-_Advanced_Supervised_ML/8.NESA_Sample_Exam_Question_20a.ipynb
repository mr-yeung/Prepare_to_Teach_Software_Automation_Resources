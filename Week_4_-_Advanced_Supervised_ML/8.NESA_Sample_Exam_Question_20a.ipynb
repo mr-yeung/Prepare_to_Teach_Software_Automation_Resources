{
 "cells": [
  {
   "cell_type": "markdown",
   "metadata": {},
   "source": [
    "# NESA Sample Examination Question 20a OOP Implementation"
   ]
  },
  {
   "cell_type": "markdown",
   "metadata": {},
   "source": [
    "In NESA Sample Examination Question 20a, students are given a decision tree and asked to optimise it. In this notebook, you are to reverse engineer a dataset, train an OOP decision tree machine learning model, and map a decision tree to see if you can identify the problem with the question."
   ]
  },
  {
   "cell_type": "markdown",
   "id": "6768e8d5",
   "metadata": {},
   "source": [
    "#### Step 1 - Import Dependencies"
   ]
  },
  {
   "cell_type": "code",
   "execution_count": null,
   "id": "e6a39309",
   "metadata": {},
   "outputs": [],
   "source": [
    "import pandas as pd\n",
    "import numpy as np\n",
    "import matplotlib.pyplot as plt\n",
    "from sklearn.tree import DecisionTreeClassifier # Import Decision Tree Classifier\n",
    "from sklearn.model_selection import train_test_split # Import train_test_split function\n",
    "from sklearn import metrics #Import scikit-learn metrics module for accuracy calculation"
   ]
  },
  {
   "cell_type": "markdown",
   "id": "01ae8231",
   "metadata": {},
   "source": [
    "#### Step 2: Extract A Training Dataset\n",
    "\n",
    "<img src=\"images\\provided_decsion_tree.png\" width=\"500\"/>\n",
    "\n",
    "<details>\n",
    "    <summary><h5 style=\"display:inline\">Tip: How to extract the data</h5></summary>\n",
    "\n",
    "1. Look at the decision tree provided.\n",
    "2. Backtrack from each leaf node (ground true label) to the root note to create a training case.\n",
    "3. You should have as many training cases as there are leaf nodes.\n",
    "4. Look at how the data was prepared in steps 2 and 3 of [5.OPP_Decision_Trees.ipynb](5.OPP_Decision_Trees.ipynb) use that as a template.\n",
    "</details>"
   ]
  },
  {
   "cell_type": "markdown",
   "id": "d6bb2280",
   "metadata": {},
   "source": [
    "Comple this table with your Training data\n",
    "\n",
    "| X | X | X | X | Buy |\n",
    "| --- | --- | --- | --- | --- |\n",
    "|  |  |  |  |  |\n",
    "\n"
   ]
  },
  {
   "cell_type": "markdown",
   "id": "0384e9f6",
   "metadata": {},
   "source": [
    "#### Step 3: One Hot Encode The Data"
   ]
  },
  {
   "cell_type": "code",
   "execution_count": null,
   "id": "8f9967ab",
   "metadata": {},
   "outputs": [],
   "source": [
    "# Feature variable\n",
    "\n",
    "\n",
    "# Target, Leaf node or ground truth label variable\n",
    "\n",
    "\n",
    "# Column names variable\n"
   ]
  },
  {
   "cell_type": "markdown",
   "id": "b3dc4582",
   "metadata": {},
   "source": [
    "#### Step 4: Instantiate a Decision Tree Classifier Object"
   ]
  },
  {
   "cell_type": "code",
   "execution_count": null,
   "id": "d750c0e2",
   "metadata": {},
   "outputs": [],
   "source": []
  },
  {
   "cell_type": "markdown",
   "id": "284491a4",
   "metadata": {},
   "source": [
    "#### Step 5: Fit the model"
   ]
  },
  {
   "cell_type": "code",
   "execution_count": null,
   "id": "a693e901",
   "metadata": {},
   "outputs": [],
   "source": []
  },
  {
   "cell_type": "markdown",
   "id": "76d8d4dc",
   "metadata": {},
   "source": [
    "#### Step 6: Predict Values"
   ]
  },
  {
   "cell_type": "code",
   "execution_count": null,
   "id": "c2c1de6b",
   "metadata": {},
   "outputs": [],
   "source": []
  },
  {
   "cell_type": "markdown",
   "id": "a71de53a",
   "metadata": {},
   "source": [
    "#### Step 7: Evaluate The Model"
   ]
  },
  {
   "cell_type": "code",
   "execution_count": null,
   "id": "6d8b3fb2",
   "metadata": {},
   "outputs": [],
   "source": []
  },
  {
   "cell_type": "markdown",
   "id": "43b4331f",
   "metadata": {},
   "source": [
    "#### Step 8: Visual The Model & Statisics"
   ]
  },
  {
   "cell_type": "code",
   "execution_count": null,
   "metadata": {},
   "outputs": [],
   "source": [
    "from sklearn.tree import export_graphviz\n",
    "from six import StringIO\n",
    "from IPython.display import Image  \n",
    "import pydotplus\n",
    "\n",
    "dot_data = StringIO()\n",
    "export_graphviz(clf, out_file=dot_data,  \n",
    "                filled=True, rounded=True,\n",
    "                special_characters=True,feature_names = feature_cols,class_names=['Not Buy','Buy'])\n",
    "graph = pydotplus.graph_from_dot_data(dot_data.getvalue())  \n",
    "graph.write_png('images/phone.png')\n",
    "Image(graph.create_png())"
   ]
  },
  {
   "cell_type": "markdown",
   "metadata": {},
   "source": [
    "#### Step 9: Compare the trained model to the NESA Sample Exam Marking Guidelines\n",
    "\n",
    "> [!Important]\n",
    "> \n",
    "> The model provided, could never be realised by a OOP machine learning model, so don't be surprised if your response looks different.\n",
    "\n",
    "<img src=\"images\\sample_answer.png\" alt=\"NESA sample answer\"/>"
   ]
  }
 ],
 "metadata": {
  "kernelspec": {
   "display_name": "Python 3",
   "language": "python",
   "name": "python3"
  },
  "language_info": {
   "codemirror_mode": {
    "name": "ipython",
    "version": 3
   },
   "file_extension": ".py",
   "mimetype": "text/x-python",
   "name": "python",
   "nbconvert_exporter": "python",
   "pygments_lexer": "ipython3",
   "version": "3.12.1"
  },
  "vscode": {
   "interpreter": {
    "hash": "56d44d6a8424451b5ce45d1ae0b0b7865dc60710e7f74571dd51dd80d7829ee9"
   }
  }
 },
 "nbformat": 4,
 "nbformat_minor": 5
}
