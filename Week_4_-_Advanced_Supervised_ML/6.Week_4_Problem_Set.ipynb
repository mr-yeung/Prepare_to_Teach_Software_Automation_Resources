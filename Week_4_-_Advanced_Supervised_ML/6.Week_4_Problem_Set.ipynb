{
 "cells": [
  {
   "cell_type": "markdown",
   "metadata": {},
   "source": [
    "# Week 4 - Problem Set\n",
    "\n",
    "Practice what you learnt today with these problems; I will share the answers on Monday before the next workshop."
   ]
  },
  {
   "cell_type": "code",
   "execution_count": null,
   "metadata": {},
   "outputs": [],
   "source": [
    "import numpy as np\n",
    "import matplotlib.pyplot as plt\n",
    "from matplotlib.patches import Circle"
   ]
  },
  {
   "cell_type": "markdown",
   "metadata": {},
   "source": [
    "__1. In a markdown block, create a markdown table and list; the number of neurons needed in the output layer of a Neural Network for regression, binary classification, and multiway classification.__"
   ]
  },
  {
   "cell_type": "markdown",
   "metadata": {},
   "source": [
    "__2. In a markdown block, compare Linear Regression and K-Nearest Neighbour machine learning models.__"
   ]
  },
  {
   "cell_type": "markdown",
   "metadata": {},
   "source": [
    "__3. In a markdown block, explain the K value in the K-Nearest Neighbour classification algorithm referring to the graph below.__ "
   ]
  },
  {
   "cell_type": "code",
   "execution_count": null,
   "metadata": {},
   "outputs": [],
   "source": [
    "# K-Nearest Neighbour Classification\n",
    "x = np.array([44.42, 45.25, 42.78, 35.35, 41.96, 40.81, 41.0, 39.02, 43.23, 35.35])\n",
    "y = np.array([36.39, 38.23, 40.59, 39.02, 36.15, 37.30, 43.07, 35.35, 38.34, 44.06])\n",
    "cols = np.array([0, 0, 0, 1, 1, 1, 0, 0, 1, 0])\n",
    "labels = np.array(['1', '2', '3', '4', '5', '6', '7', '8', '9', '10'])\n",
    "fig, ax = plt.subplots()\n",
    "radii = [1, 2, 3, 4, 5]\n",
    "for radius in radii:\n",
    "    circle = Circle((40, 40), radius, color='blue', fill=False, linestyle='--')\n",
    "    ax.add_patch(circle)\n",
    "plt.scatter(x, y, c=cols)\n",
    "for i, label in enumerate(labels):\n",
    "    plt.text(x[i] + 0.2, y[i] + 0.2, label, fontsize=9, color='black')\n",
    "plt.scatter(40, 40, color='red', label='Target Point')\n",
    "\n",
    "ax.set_xlabel(\"X\")\n",
    "ax.set_ylabel(\"Y\")\n",
    "plt.legend()\n",
    "plt.show()"
   ]
  },
  {
   "cell_type": "markdown",
   "metadata": {},
   "source": [
    "__4. In a markdown block, explain what node purity (Gini impurity) is in Decision Trees.__"
   ]
  },
  {
   "cell_type": "markdown",
   "metadata": {},
   "source": [
    "__5. Work through the [8.OOP_Iris_Flower_Classification](8.OOP_Iris_Flower_Classification.ipynb) notebook reading the notes, reviewing the code and running each code block. In a markdown block, using the Neural Network language of the NESA Course Specifications explains the below code snippet.__\n",
    "\n",
    "```python\n",
    "model = tf.keras.Sequential([\n",
    "    Input(shape=(4,)),  \n",
    "    Dense(64, activation='relu'),\n",
    "    Dense(32, activation='relu'),\n",
    "    Dense(3, activation='softmax')\n",
    "])\n",
    "```"
   ]
  },
  {
   "cell_type": "markdown",
   "metadata": {},
   "source": [
    "__6. [Tinker with a Neural Network](https://playground.tensorflow.org/#activation=tanh&batchSize=10&dataset=circle&regDataset=reg-plane&learningRate=0.03&regularizationRate=0&noise=0&networkShape=4,2&seed=0.96301&showTestData=false&discretize=false&percTrainData=50&x=true&y=true&xTimesY=false&xSquared=false&ySquared=false&cosX=false&sinX=false&cosY=false&sinY=false&collectStats=false&problem=classification&initZero=false&hideText=false).__"
   ]
  },
  {
   "cell_type": "markdown",
   "metadata": {},
   "source": [
    "__7. In a markdown block, explain two stratgies for refactoring a Descision Tree that a ML Algorthym will use (the question 20a should be asking).__"
   ]
  },
  {
   "cell_type": "markdown",
   "metadata": {},
   "source": [
    "__8. Complete an OOP implementation to try and validate the [NESA Sample Exam Question 20a answer](7.NESA_Sample_Exam_Question_20a.ipynb).__"
   ]
  }
 ],
 "metadata": {
  "kernelspec": {
   "display_name": "Python 3",
   "language": "python",
   "name": "python3"
  },
  "language_info": {
   "codemirror_mode": {
    "name": "ipython",
    "version": 3
   },
   "file_extension": ".py",
   "mimetype": "text/x-python",
   "name": "python",
   "nbconvert_exporter": "python",
   "pygments_lexer": "ipython3",
   "version": "3.12.1"
  }
 },
 "nbformat": 4,
 "nbformat_minor": 2
}
