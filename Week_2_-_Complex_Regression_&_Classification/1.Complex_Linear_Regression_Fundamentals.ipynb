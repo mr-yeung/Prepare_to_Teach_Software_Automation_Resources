{
 "cells": [
  {
   "cell_type": "markdown",
   "metadata": {},
   "source": [
    "# Complex Linear Regression"
   ]
  },
  {
   "cell_type": "code",
   "execution_count": null,
   "metadata": {},
   "outputs": [],
   "source": [
    "%matplotlib inline\n",
    "import numpy as np\n",
    "import pandas as pd\n",
    "import matplotlib.pyplot as plt\n",
    "from sklearn.linear_model import LinearRegression\n",
    "\n",
    "plt.style.use('ggplot')"
   ]
  },
  {
   "cell_type": "markdown",
   "metadata": {},
   "source": [
    "#### Mulitple Feature Linear Regression\n",
    "\n",
    "A simplified multi feature linear function\n",
    "\n",
    "```math\n",
    "Y = b0 + b1X1 + b2X2 + ... + bnXn + \\epsilon\n",
    "```\n",
    "\n",
    "<span style=\"color : red\">Band 6 students should be able to 'recall' this function and have a high level understanding of it in Multi Feature Linear Regression.</span>\n",
    "\n",
    "| Symbol | |\n",
    "| --- | --- |\n",
    "| $y$ | Predicted value |\n",
    "| $b1$, $b2$, ..., $bn$ | The regression coefficients, representing the change in Y for a one-unit change in the corresponding independent variable, while holding other variables constant |\n",
    "| $X1$, $X2$, ..., $Xn$ | Features |\n",
    "| $b0$ | The y-intercept when all independent variables are zero |\n",
    "| $\\epsilon$ | The error term, representing the unexplained variation in Y that is not accounted for by the model |\n"
   ]
  },
  {
   "cell_type": "code",
   "execution_count": null,
   "metadata": {},
   "outputs": [],
   "source": [
    "n_samples = 100\n",
    "X1 = np.random.rand(n_samples) * 10 \n",
    "X2 = np.random.rand(n_samples) * 10 \n",
    "y = 3 * X1 + 5 * X2 + np.random.randn(n_samples) * 2  \n",
    "\n",
    "data = pd.DataFrame({'Feature1': X1, 'Feature2': X2, 'Target': y})\n",
    "# Training a Linear Regression Model\n",
    "model = LinearRegression()\n",
    "X = data[['Feature1', 'Feature2']]\n",
    "model.fit(X, y)\n",
    "\n",
    "intercept = model.intercept_\n",
    "coefficients = model.coef_\n",
    "# Creating a 3D graph\n",
    "fig = plt.figure()\n",
    "ax = fig.add_subplot(111, projection='3d')\n",
    "\n",
    "ax.scatter(data['Feature1'], data['Feature2'], data['Target'], color='blue')\n",
    "\n",
    "x1_range = np.linspace(data['Feature1'].min(), data['Feature1'].max(), 10)\n",
    "x2_range = np.linspace(data['Feature2'].min(), data['Feature2'].max(), 10)\n",
    "X1_grid, X2_grid = np.meshgrid(x1_range, x2_range)\n",
    "\n",
    "y_pred = intercept + coefficients[0] * X1_grid + coefficients[1] * X2_grid\n",
    "\n",
    "ax.plot_surface(X1_grid, X2_grid, y_pred, color='orange', alpha=0.5)\n",
    "\n",
    "ax.set_xlabel('Feature 1')\n",
    "ax.set_ylabel('Feature 2')\n",
    "ax.set_zlabel('Target')\n",
    "plt.show()"
   ]
  },
  {
   "cell_type": "markdown",
   "metadata": {},
   "source": [
    "#### Polynomial Linear Regression\n",
    "\n",
    "A simplified polynomial linear function\n",
    "\n",
    "```math\n",
    "Y=\\beta _{0}+\\beta _{1}X +\\beta_{2}X^{2}+\\ldots+\\beta_{n}X^{n}+\\epsilon\n",
    "```\n",
    "\n",
    "<span style=\"color : red\">Students are not expected to recall or be able to \n",
    "calculate this function, but should be able to explain how the polynomial expression extends the simple Linear Regression function.</span>\n",
    "\n",
    "| Symbol | |\n",
    "| --- | --- |\n",
    "| y | Predicted value |\n",
    "| $\\beta _{1}$, $\\beta _{2}$, ..., $\\beta _{n}$ | Slope of coefficients of the linear expression, for each polynomial degree |\n",
    "| $X$, $X^{2}$, ..., $X^{n}$ | Features |\n",
    "| $\\beta _{0}$ | y-intercept  when 'x' is zero; where the regression line crosses the y-axis |\n",
    "| $n$ | Degree's of polynomial |\n",
    "| $\\epsilon$ | The error term, representing the unexplained variation in Y that is not accounted for by the model |\n",
    "\n"
   ]
  },
  {
   "cell_type": "code",
   "execution_count": null,
   "metadata": {},
   "outputs": [],
   "source": [
    "# Polynomial Linear Relationship\n",
    "n = 300 # Sample\n",
    "Beta = [0, 1, -2, 0.5]\n",
    "e = np.random.normal(-3, 4, n)\n",
    "X = 2 - 3 * np.random.normal(0, 0.5, n)\n",
    "y = 0\n",
    "for i in range(len(Beta)):\n",
    "    y += Beta[i] * X**i\n",
    "y += e\n",
    "\n",
    "plt.xlabel(\"Feature\")\n",
    "plt.ylabel(\"Target\")\n",
    "plt.scatter(X, y, s=10)\n",
    "plt.show()"
   ]
  }
 ],
 "metadata": {
  "kernelspec": {
   "display_name": "Python 3",
   "language": "python",
   "name": "python3"
  },
  "language_info": {
   "codemirror_mode": {
    "name": "ipython",
    "version": 3
   },
   "file_extension": ".py",
   "mimetype": "text/x-python",
   "name": "python",
   "nbconvert_exporter": "python",
   "pygments_lexer": "ipython3",
   "version": "3.12.1"
  }
 },
 "nbformat": 4,
 "nbformat_minor": 2
}
