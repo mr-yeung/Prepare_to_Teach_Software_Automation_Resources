{
 "cells": [
  {
   "cell_type": "markdown",
   "metadata": {},
   "source": [
    "# OOP Linear Regression Implementation"
   ]
  },
  {
   "cell_type": "markdown",
   "metadata": {},
   "source": [
    "This Jupyter Notebook provides a basic implementation of Single Feature Linear Regression. The data set contains measurements on a single species of insect captured on two continents. We want to predict an male insects latitude given the wingspan."
   ]
  },
  {
   "cell_type": "markdown",
   "metadata": {},
   "source": [
    "#### Step 1 - Import Dependencies"
   ]
  },
  {
   "cell_type": "code",
   "execution_count": null,
   "metadata": {
    "collapsed": false
   },
   "outputs": [],
   "source": [
    "import numpy as np\n",
    "import pandas as pd\n",
    "\n",
    "%matplotlib inline\n",
    "import matplotlib.pyplot as plt\n",
    "plt.style.use('ggplot')\n",
    "\n",
    "from sklearn.linear_model import LinearRegression\n",
    "\n",
    "from sklearn.metrics import mean_absolute_error,mean_squared_error "
   ]
  },
  {
   "cell_type": "markdown",
   "metadata": {},
   "source": [
    "#### Step 2 - Import, Filter and Visualise The Data"
   ]
  },
  {
   "cell_type": "code",
   "execution_count": null,
   "metadata": {
    "collapsed": false
   },
   "outputs": [],
   "source": [
    "#Import data as a Pandas DataFrame\n",
    "insects = pd.read_csv('data/insects.csv', sep='\\t')\n",
    "insects = pd.DataFrame({\n",
    "    'continent': insects['continent'],\n",
    "    'latitude': insects['latitude'],\n",
    "    'sex': insects['sex'],\n",
    "    'wingsize': insects['wingsize']\n",
    "})\n",
    "\n",
    "# Filter the data to only male insects\n",
    "insects = insects[insects.sex == 1]\n",
    "\n",
    "# Features variable\n",
    "X_insects = insects[['wingsize']]\n",
    "# Target variable\n",
    "y_insects = insects['latitude']\n",
    "\n",
    "insects.head()"
   ]
  },
  {
   "cell_type": "code",
   "execution_count": null,
   "metadata": {},
   "outputs": [],
   "source": [
    "#Plot the data\n",
    "plt.scatter(X_insects, y_insects, label=\"Actual Data\", color='g')\n",
    "plt.xlabel(\"Wing size\")\n",
    "plt.ylabel(\"Latitude\")\n",
    "plt.legend()\n",
    "plt.show()"
   ]
  },
  {
   "cell_type": "markdown",
   "metadata": {},
   "source": [
    "#### Step 3: Instantiate a LinearRegression Object"
   ]
  },
  {
   "cell_type": "code",
   "execution_count": null,
   "metadata": {
    "collapsed": true
   },
   "outputs": [],
   "source": [
    "insects_regression = LinearRegression()"
   ]
  },
  {
   "cell_type": "markdown",
   "metadata": {},
   "source": [
    "#### Step 4: Fit the model"
   ]
  },
  {
   "cell_type": "code",
   "execution_count": null,
   "metadata": {
    "collapsed": false
   },
   "outputs": [],
   "source": [
    "insects_regression.fit(X_insects, y_insects)"
   ]
  },
  {
   "cell_type": "markdown",
   "metadata": {},
   "source": [
    "#### Step 5: Predict Values"
   ]
  },
  {
   "cell_type": "code",
   "execution_count": null,
   "metadata": {
    "collapsed": true
   },
   "outputs": [],
   "source": [
    "# Predict the target for the whole dataset\n",
    "latitude_predictions = insects_regression.predict(X_insects)\n",
    "\n",
    "#Predict the target for a new data point\n",
    "new_insect = pd.DataFrame({\n",
    "    'wingsize': [800]\n",
    "})\n",
    "new_insect['latitude'] = insects_regression.predict(new_insect)\n",
    "print(f\"New insect is:\\n{new_insect}\")"
   ]
  },
  {
   "cell_type": "markdown",
   "metadata": {},
   "source": [
    "#### Step 6: Plot the Predictions"
   ]
  },
  {
   "cell_type": "code",
   "execution_count": null,
   "metadata": {},
   "outputs": [],
   "source": [
    "#Plot the predictions compared to the actual data\n",
    "plt.scatter(X_insects, y_insects, label=\"Actual Data\", color='g')\n",
    "plt.scatter(X_insects, latitude_predictions, label=\"Predicted Data\", c='r')\n",
    "plt.xlabel(\"Wing size\")\n",
    "plt.ylabel(\"Latitude\")\n",
    "plt.legend()\n",
    "plt.show()"
   ]
  },
  {
   "cell_type": "markdown",
   "metadata": {},
   "source": [
    "#### Step 7: Evaluate The Model"
   ]
  },
  {
   "cell_type": "code",
   "execution_count": null,
   "metadata": {},
   "outputs": [],
   "source": [
    "#Get Evalutative Data from the model\n",
    "print(f\"Model coefficient :{insects_regression.coef_}\")\n",
    "print(f\"Model y intercept :{insects_regression.intercept_}\")\n",
    "print(f\"Model score :{insects_regression.score(X_insects,y_insects)}\")\n",
    "mae = mean_absolute_error(y_true=y_insects,y_pred=latitude_predictions) \n",
    "mse = mean_squared_error(y_true=y_insects,y_pred=latitude_predictions)\n",
    "print(\"MAE:\",mae) \n",
    "print(\"MSE:\",mse) \n",
    "print()\n",
    "\n",
    "#Manually Calculate the loss and cost of the model\n",
    "model_loss = pd.DataFrame({\n",
    "    'Target': y_insects,\n",
    "    'Predicted result': latitude_predictions,\n",
    "    'Loss': abs(y_insects - insects_regression.predict(X_insects).round(2))\n",
    "})\n",
    "model_cost = (1/model_loss.shape[0]) * (model_loss['Loss'].sum() / model_loss.shape[0])\n",
    "\n",
    "print(f\"The cost of this model is {model_cost:.5f}\")\n",
    "print(model_loss)"
   ]
  }
 ],
 "metadata": {
  "anaconda-cloud": {},
  "kernelspec": {
   "display_name": "Python 3",
   "language": "python",
   "name": "python3"
  },
  "language_info": {
   "codemirror_mode": {
    "name": "ipython",
    "version": 3
   },
   "file_extension": ".py",
   "mimetype": "text/x-python",
   "name": "python",
   "nbconvert_exporter": "python",
   "pygments_lexer": "ipython3",
   "version": "3.12.1"
  }
 },
 "nbformat": 4,
 "nbformat_minor": 0
}
